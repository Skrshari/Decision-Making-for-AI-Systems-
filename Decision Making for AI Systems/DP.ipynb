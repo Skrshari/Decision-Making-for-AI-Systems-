{
 "cells": [
  {
   "cell_type": "markdown",
   "metadata": {},
   "source": [
    "# Subset-Sum Problem (SSP)"
   ]
  },
  {
   "cell_type": "markdown",
   "metadata": {},
   "source": [
    "The **Subset Sum problem (SSP)** is defined as follows:\n",
    "\n",
    ">Given a set $S = \\{x_1, x_2, \\ldots, x_n\\}$ of positive integers,\n",
    ">and a positive integers $t$, is there a subset of $S$ whose sum is equal to $t$?\n",
    "\n",
    "This is the **decision version** of SSP as it only asks for a true/false answer."
   ]
  },
  {
   "cell_type": "markdown",
   "metadata": {},
   "source": [
    "#### Example\n",
    "\n",
    "$S=\\{1,2,3,10\\}$ and $t=13$.\n",
    "\n",
    "A solution is given by $\\{1,2,10\\}$. There is also another solution: $\\{3,10\\}$."
   ]
  },
  {
   "cell_type": "markdown",
   "metadata": {},
   "source": [
    "## Exhaustive search"
   ]
  },
  {
   "cell_type": "markdown",
   "metadata": {},
   "source": [
    "An **exhaustive search algorithm** for this problem can written *iteratively* as follows:\n",
    "\n",
    "**INPUT:** A set $S = \\{x_1, x_2, \\ldots, x_n\\}$ of positive integers, and a positive integer $t$.\n",
    "\n",
    "**OUTPUT:** $(c_1,\\ldots,c_n)$ such that $\\sum_{i=1}^n c_i x_i = t$\n",
    "\n",
    "1. **for all** $(c_1,\\ldots,c_n)\\in\\{0,1\\}^n$ **do**\n",
    "2. $\\quad$ **if** $\\sum_{i=1}^n c_i x_i = t$ **then**\n",
    "3. $\\qquad$ **return** $(c_1,\\ldots,c_n)$"
   ]
  },
  {
   "cell_type": "markdown",
   "metadata": {},
   "source": [
    "Now think of the exhaustive search as a binary tree, where at each level we decide whether to include the $i^\\text{th}$ number or not. For example, if $S = \\{a, b, c, d\\}$ then we get:\n",
    "\n",
    "![](img/ssp-binary-tree.jpg)"
   ]
  },
  {
   "cell_type": "markdown",
   "metadata": {},
   "source": [
    "Write a recursive version of the exhaustive search algorithm."
   ]
  },
  {
   "cell_type": "markdown",
   "metadata": {},
   "source": [
    "Recursive Approach for SSP:\n",
    "In the recursive approach, we try to determine if the target ttt can be achieved by either:\n",
    "\n",
    "1. Including the current element xkx_kxk​, reducing the target to t′=t−xkt' = t - x_kt′=t−xk​.\n",
    "2. Excluding the current element xkx_kxk​, leaving the target t′=tt' = tt′=t.\n",
    "\n",
    "\n",
    "This creates a binary decision tree, where each node represents the inclusion or exclusion of an element.\n",
    "Recursive Algorithm\n",
    "\n",
    "The algorithm can be implemented as follows:\n",
    "\n",
    "INPUT: A set S={x1,x2,…,xn}S = \\{x_1, x_2, \\ldots, x_n\\}S={x1​,x2​,…,xn​}, a target sum ttt, and the current subset index nnn.\n",
    "\n",
    "OUTPUT: True if a subset exists with sum ttt, otherwise False.\n",
    "\n",
    "Base Cases:\n",
    "If t=0t = 0t=0: Return True (we found a subset that sums to ttt).\n",
    "\n",
    "If n=0n = 0n=0 or t<0t < 0t<0: Return False (no subset can sum to ttt).\n",
    "\n",
    "Recursive Step:\n",
    "\n",
    "Check if the target ttt can be achieved by:\n",
    "\n",
    "Including the nnn-th element: subset_sum(S,n−1,t−S[n−1])\\text{subset\\_sum}(S, n-1, t - S[n-1])subset_sum(S,n−1,t−S[n−1]).\n",
    "\n",
    "Excluding the nnn-th element: subset_sum(S,n−1,t)\\text{subset\\_sum}(S, n-1, t)subset_sum(S,n−1,t).\n",
    "\n",
    "Return the logical OR of these two results.\n",
    "\n",
    "\n",
    "Example\n",
    "\n",
    "For S={1,2,3,10}S = \\{1, 2, 3, 10\\}S={1,2,3,10} and t=13t = 13t=13:\n",
    "\n",
    "Start with n=4n = 4n=4, t=13t = 13t=13.\n",
    "\n",
    "Include 101010: Reduce ttt to 333, solve subset_sum(S,3,3)\\text{subset\\_sum}(S, 3, 3)subset_sum(S,3,3).\n",
    "\n",
    "Exclude 101010: Solve subset_sum(S,3,13)\\text{subset\\_sum}(S, 3, 13)subset_sum(S,3,13).\n",
    "\n",
    "This continues recursively until a solution is found or all possibilities are exhausted.\n",
    "\n"
   ]
  },
  {
   "cell_type": "markdown",
   "metadata": {},
   "source": [
    "## Dynamic Programming."
   ]
  },
  {
   "cell_type": "markdown",
   "metadata": {},
   "source": [
    "The above iterative pseudocode considers the subsets of $S$ as the search space.\n",
    "Another way to search for solutions is to iteratively build the answer for smaller target values $t' = 0, 1, 2, 3, \\ldots$ until we reach $t$.\n",
    "\n",
    "If we have built all the possible sums from the subset $\\{x_1,\\ldots,x_k\\}$, what other sums become possible if we add $x_{k+1}$ to the set?"
   ]
  },
  {
   "cell_type": "markdown",
   "metadata": {},
   "source": [
    "Iterative Addition of xk+1x_{k+1}xk+1​ to Build Possible Sums\n",
    "\n",
    "If we have already built all possible sums from the subset {x1,x2,…,xk}\\{x_1, x_2, \\ldots, x_k\\}{x1​,x2​,…,xk​}, the new sums that become possible by adding xk+1x_{k+1}xk+1​ to the subset are:\n",
    "\n",
    "Existing Sums: All sums that were previously possible without xk+1x_{k+1}xk+1​.\n",
    "\n",
    "New Sums: Adding xk+1x_{k+1}xk+1​ to each of the existing sums creates a new set of possible sums.\n",
    "\n",
    "This can be formalized as:\n",
    "\n",
    "New Possible Sums={sum+xk+1∣sum∈Existing Sums}.\\text{New Possible Sums} = \\{\\text{sum} + x_{k+1} \\mid \\text{sum} \\in \\text{Existing Sums}\\}.New Possible Sums={sum+xk+1​∣sum∈Existing Sums}.\n",
    "\n",
    "Thus, the updated set of possible sums becomes:\n",
    "\n",
    "Updated Possible Sums=Existing Sums∪New Sums.\\text{Updated Possible Sums} = \\text{Existing Sums} \\cup \\text{New Sums}.Updated Possible Sums=Existing Sums∪New Sums.\n",
    "\n",
    "Example\n",
    "\n",
    "Let S={3,5,7}S = \\{3, 5, 7\\}S={3,5,7}, and consider building the possible sums iteratively:\n",
    "\n",
    "Start with {0}\\{0\\}{0} (the sum of an empty subset).\n",
    "\n",
    "Add 333: Possible sums are {0,3}\\{0, 3\\}{0,3}.\n",
    "\n",
    "Add 555:\n",
    "\n",
    "Existing sums: {0,3}\\{0, 3\\}{0,3}.\n",
    "\n",
    "New sums: {5,8}\\{5, 8\\}{5,8} (adding 555 to each existing sum).\n",
    "\n",
    "Updated sums: {0,3,5,8}\\{0, 3, 5, 8\\}{0,3,5,8}.\n",
    "\n",
    "Add 777:\n",
    "\n",
    "Existing sums: {0,3,5,8}\\{0, 3, 5, 8\\}{0,3,5,8}.\n",
    "\n",
    "New sums: {7,10,12,15}\\{7, 10, 12, 15\\}{7,10,12,15} (adding 777 to each existing sum).\n",
    "\n",
    "Updated sums: {0,3,5,7,8,10,12,15}\\{0, 3, 5, 7, 8, 10, 12, 15\\}{0,3,5,7,8,10,12,15}.\n",
    "\n",
    "By the end, the set of all possible sums has been built.\n",
    "\n",
    "Conclusion\n",
    "\n",
    "This approach builds possible sums iteratively, ensuring that all smaller targets t′t't′ are handled first before tackling larger sums. This forms the foundation for the bottom-up dynamic programming solution to the Subset Sum Problem.\n",
    "\n",
    "\n",
    "\n"
   ]
  },
  {
   "cell_type": "markdown",
   "metadata": {},
   "source": [
    "If we have already built all possible sums from the subset {x1,x2,…,xk}\\{x_1, x_2, \\ldots, x_k\\}{x1​,x2​,…,xk​}, the new sums that become possible by adding xk+1x_{k+1}xk+1​ to the subset are:\n",
    "Existing Sums: All sums that were previously possible without xk+1x_{k+1}xk+1​.\n",
    "New Sums: Adding xk+1x_{k+1}xk+1​ to each of the existing sums creates a new set of possible sums.\n",
    "This can be formalized as:\n",
    "New Possible Sums={sum+xk+1∣sum∈Existing Sums}.\\text{New Possible Sums} = \\{\\text{sum} + x_{k+1} \\mid \\text{sum} \\in \\text{Existing Sums}\\}.New Possible Sums={sum+xk+1​∣sum∈Existing Sums}.\n",
    "Thus, the updated set of possible sums becomes:\n",
    "Updated Possible Sums=Existing Sums∪New Sums.\\text{Updated Possible Sums} = \\text{Existing Sums} \\cup \\text{New Sums}.Updated Possible Sums=Existing Sums∪New Sums.\n",
    "Example\n",
    "Let S={3,5,7}S = \\{3, 5, 7\\}S={3,5,7}, and consider building the possible sums iteratively:\n",
    "Start with {0}\\{0\\}{0} (the sum of an empty subset).\n",
    "Add 333: Possible sums are {0,3}\\{0, 3\\}{0,3}.\n",
    "Add 555:\n",
    "Existing sums: {0,3}\\{0, 3\\}{0,3}.\n",
    "New sums: {5,8}\\{5, 8\\}{5,8} (adding 555 to each existing sum).\n",
    "Updated sums: {0,3,5,8}\\{0, 3, 5, 8\\}{0,3,5,8}.\n",
    "Add 777:\n",
    "Existing sums: {0,3,5,8}\\{0, 3, 5, 8\\}{0,3,5,8}.\n",
    "New sums: {7,10,12,15}\\{7, 10, 12, 15\\}{7,10,12,15} (adding 777 to each existing sum).\n",
    "Updated sums: {0,3,5,7,8,10,12,15}\\{0, 3, 5, 7, 8, 10, 12, 15\\}{0,3,5,7,8,10,12,15}.\n",
    "By the end, the set of all possible sums has been built.\n",
    "Conclusion\n",
    "This approach builds possible sums iteratively, ensuring that all smaller targets t′t't′ are handled first before tackling larger sums. This forms the foundation for the bottom-up dynamic programming solution to the Subset Sum Problem.\n",
    "\n",
    "\n"
   ]
  },
  {
   "cell_type": "markdown",
   "metadata": {},
   "source": [
    "Now explain how we can use this for a bottom-up approach to decide SSP."
   ]
  },
  {
   "cell_type": "markdown",
   "metadata": {},
   "source": [
    "# Implementation"
   ]
  },
  {
   "cell_type": "code",
   "execution_count": 26,
   "metadata": {},
   "outputs": [],
   "source": [
    "from random import randint, sample"
   ]
  },
  {
   "cell_type": "code",
   "execution_count": null,
   "metadata": {},
   "outputs": [],
   "source": [
    "def get_S_t(n, MAX_X = 100):\n",
    "    \"\"\"Generate a random subset S and a target t.\"\"\"\n",
    "    S = [randint(1, MAX_X) for _ in range(n)]\n",
    "    t = sum(sample(S, randint(1, n)))\n",
    "    return S, t"
   ]
  },
  {
   "cell_type": "code",
   "execution_count": 28,
   "metadata": {},
   "outputs": [
    {
     "data": {
      "text/plain": [
       "([59, 100, 97, 84, 79, 93, 49, 74, 54, 48], 440)"
      ]
     },
     "execution_count": 28,
     "metadata": {},
     "output_type": "execute_result"
    }
   ],
   "source": [
    "get_S_t(10)"
   ]
  },
  {
   "cell_type": "code",
   "execution_count": 29,
   "metadata": {},
   "outputs": [],
   "source": [
    "def recursive_exhaustive_search(S, t, n):\n",
    "    \"\"\"Recursive exhaustive search for the subset sum problem.\"\"\"\n",
    "    if t == 0:\n",
    "        return True\n",
    "    if n == 0:\n",
    "        return False\n",
    "    if S[n - 1] > t:\n",
    "        return recursive_exhaustive_search(S, t, n - 1)\n",
    "    return (recursive_exhaustive_search(S, t - S[n - 1], n - 1) or \n",
    "            recursive_exhaustive_search(S, t, n - 1))\n"
   ]
  },
  {
   "cell_type": "markdown",
   "metadata": {},
   "source": [
    "### 1) Memoization (Top-down approach)"
   ]
  },
  {
   "cell_type": "code",
   "execution_count": 30,
   "metadata": {
    "ExecuteTime": {
     "end_time": "2022-10-25T11:38:11.266563Z",
     "start_time": "2022-10-25T11:38:11.256547Z"
    }
   },
   "outputs": [],
   "source": [
    "def memoized_subset_sum(S, t):\n",
    "    \"\"\"Memoized version of the subset sum problem.\"\"\"\n",
    "    memo = {}\n",
    "\n",
    "    def helper(S, t, n):\n",
    "        if t == 0:\n",
    "            return True\n",
    "        if n == 0:\n",
    "            return False\n",
    "        if (t, n) in memo:\n",
    "            return memo[(t, n)]\n",
    "\n",
    "        if S[n - 1] > t:\n",
    "            memo[(t, n)] = helper(S, t, n - 1)\n",
    "        else:\n",
    "            memo[(t, n)] = (helper(S, t - S[n - 1], n - 1) or \n",
    "                            helper(S, t, n - 1))\n",
    "        return memo[(t, n)]\n",
    "\n",
    "    return helper(S, t, len(S))"
   ]
  },
  {
   "cell_type": "code",
   "execution_count": 31,
   "metadata": {
    "ExecuteTime": {
     "end_time": "2022-10-25T11:38:11.281559Z",
     "start_time": "2022-10-25T11:38:11.271567Z"
    }
   },
   "outputs": [
    {
     "name": "stdout",
     "output_type": "stream",
     "text": [
      "Test case 1: S=[3, 34, 4, 12, 5, 2], t=9, Expected=True, Result=True\n",
      "Test case 2: S=[3, 34, 4, 12, 5, 2], t=30, Expected=False, Result=False\n",
      "Test case 3: S=[1, 2, 3, 7], t=6, Expected=True, Result=True\n",
      "Test case 4: S=[1, 2, 3, 7], t=20, Expected=False, Result=False\n",
      "Test case 5: S=[1, 1, 1, 1], t=2, Expected=True, Result=True\n"
     ]
    }
   ],
   "source": [
    "# Test Example\n",
    "def test_memoized_subset_sum():\n",
    "    \"\"\"Specific test cases for memoized subset sum.\"\"\"\n",
    "    test_cases = [\n",
    "        ([3, 34, 4, 12, 5, 2], 9, True),\n",
    "        ([3, 34, 4, 12, 5, 2], 30, False),\n",
    "        ([1, 2, 3, 7], 6, True),\n",
    "        ([1, 2, 3, 7], 20, False),\n",
    "        ([1, 1, 1, 1], 2, True)\n",
    "    ]\n",
    "\n",
    "    for i, (S, t, expected) in enumerate(test_cases):\n",
    "        result = memoized_subset_sum(S, t)\n",
    "        print(f\"Test case {i + 1}: S={S}, t={t}, Expected={expected}, Result={result}\")\n",
    "        assert result == expected, f\"Failed on test case {i + 1}\"\n",
    "\n",
    "test_memoized_subset_sum()\n"
   ]
  },
  {
   "cell_type": "markdown",
   "metadata": {},
   "source": [
    "### 2) Bottom-up approach"
   ]
  },
  {
   "cell_type": "code",
   "execution_count": null,
   "metadata": {
    "ExecuteTime": {
     "end_time": "2022-10-25T11:38:11.295714Z",
     "start_time": "2022-10-25T11:38:11.286560Z"
    }
   },
   "outputs": [
    {
     "name": "stdout",
     "output_type": "stream",
     "text": [
      "Test case 1: S=[3, 34, 4, 12, 5, 2], t=9, Expected=True, Result=True\n",
      "Test case 2: S=[3, 34, 4, 12, 5, 2], t=30, Expected=False, Result=False\n",
      "Test case 3: S=[1, 2, 3, 7], t=6, Expected=True, Result=True\n",
      "Test case 4: S=[1, 2, 3, 7], t=20, Expected=False, Result=False\n",
      "Test case 5: S=[1, 1, 1, 1], t=2, Expected=True, Result=True\n"
     ]
    }
   ],
   "source": [
    "def bottom_up_subset_sum(S, t):\n",
    "    \"\"\"Bottom-up dynamic programming for the subset sum problem.\"\"\"\n",
    "    n = len(S)\n",
    "    dp = [[False] * (t + 1) for _ in range(n + 1)]\n",
    "    for i in range(n + 1):\n",
    "        dp[i][0] = True\n",
    "\n",
    "    for i in range(1, n + 1):\n",
    "        for j in range(1, t + 1):\n",
    "            if S[i - 1] > j:\n",
    "                dp[i][j] = dp[i - 1][j]\n",
    "            else:\n",
    "                dp[i][j] = dp[i - 1][j] or dp[i - 1][j - S[i - 1]]\n",
    "\n",
    "    return dp[n][t]\n",
    "\n"
   ]
  },
  {
   "cell_type": "code",
   "execution_count": 35,
   "metadata": {},
   "outputs": [
    {
     "name": "stdout",
     "output_type": "stream",
     "text": [
      "Test case 1: S=[3, 34, 4, 12, 5, 2], t=9, Expected=True, Result=True\n",
      "Test case 2: S=[3, 34, 4, 12, 5, 2], t=30, Expected=False, Result=False\n",
      "Test case 3: S=[1, 2, 3, 7], t=6, Expected=True, Result=True\n",
      "Test case 4: S=[1, 2, 3, 7], t=20, Expected=False, Result=False\n",
      "Test case 5: S=[1, 1, 1, 1], t=2, Expected=True, Result=True\n"
     ]
    }
   ],
   "source": [
    "\n",
    "#test Example\n",
    "def test_bottom_up_subset_sum():\n",
    "    \"\"\"Specific test cases for bottom-up subset sum.\"\"\"\n",
    "    test_cases = [\n",
    "        ([3, 34, 4, 12, 5, 2], 9, True),\n",
    "        ([3, 34, 4, 12, 5, 2], 30, False),\n",
    "        ([1, 2, 3, 7], 6, True),\n",
    "        ([1, 2, 3, 7], 20, False),\n",
    "        ([1, 1, 1, 1], 2, True)\n",
    "    ]\n",
    "\n",
    "    for i, (S, t, expected) in enumerate(test_cases):\n",
    "        result = bottom_up_subset_sum(S, t)\n",
    "        print(f\"Test case {i + 1}: S={S}, t={t}, Expected={expected}, Result={result}\")\n",
    "        assert result == expected, f\"Failed on test case {i + 1}\"\n",
    "\n",
    "test_bottom_up_subset_sum()\n",
    "\n"
   ]
  },
  {
   "cell_type": "code",
   "execution_count": 34,
   "metadata": {
    "ExecuteTime": {
     "end_time": "2022-10-25T11:38:11.311861Z",
     "start_time": "2022-10-25T11:38:11.295714Z"
    }
   },
   "outputs": [
    {
     "name": "stdout",
     "output_type": "stream",
     "text": [
      "Set S: [19, 42, 17, 33, 73, 71, 86, 76, 59, 88]\n",
      "Target t: 429\n",
      "\n",
      "Recursive Exhaustive Search:\n",
      "True\n",
      "\n",
      "Memoized Dynamic Programming:\n",
      "True\n",
      "\n",
      "Bottom-up Dynamic Programming:\n",
      "True\n"
     ]
    }
   ],
   "source": [
    "def test_subset_sum():\n",
    "    S, t = get_S_t(10)\n",
    "    print(f\"Set S: {S}\")\n",
    "    print(f\"Target t: {t}\")\n",
    "\n",
    "    print(\"\\nRecursive Exhaustive Search:\")\n",
    "    print(recursive_exhaustive_search(S, t, len(S)))\n",
    "\n",
    "    print(\"\\nMemoized Dynamic Programming:\")\n",
    "    print(memoized_subset_sum(S, t))\n",
    "\n",
    "    print(\"\\nBottom-up Dynamic Programming:\")\n",
    "    print(bottom_up_subset_sum(S, t))\n",
    "\n",
    "test_subset_sum()"
   ]
  },
  {
   "cell_type": "markdown",
   "metadata": {},
   "source": [
    "# Conclusion\n",
    "\n",
    "The Subset-Sum Problem (SSP) demonstrates the utility of different algorithmic paradigms:\n",
    "\n",
    "Recursive Approach:\n",
    "\n",
    "This method exhaustively explores all subsets by considering whether to include or exclude each element.\n",
    "While simple and intuitive, it becomes computationally expensive for larger inputs due to exponential time complexity.\n",
    "Memoization (Top-Down Dynamic Programming):\n",
    "\n",
    "By caching intermediate results, this approach avoids redundant computations.\n",
    "It significantly improves performance compared to the recursive method, making it suitable for moderately large inputs.\n",
    "Bottom-Up Dynamic Programming:\n",
    "\n",
    "This approach builds solutions iteratively for smaller subproblems until the final solution is reached.\n",
    "It is typically more efficient in terms of memory and computation and is better suited for large-scale inputs.\n",
    "Each method has its strengths and trade-offs, and the choice depends on the specific requirements of the problem (e.g., size of \n",
    "𝑆\n",
    "S, computational resources). This study illustrates how dynamic programming can transform a seemingly intractable problem into a manageable one."
   ]
  },
  {
   "cell_type": "markdown",
   "metadata": {},
   "source": [
    "# List of references\n",
    "Books:\n",
    "\n",
    "Cormen, T. H., Leiserson, C. E., Rivest, R. L., & Stein, C. (2009). Introduction to Algorithms. MIT Press.\n",
    "Articles and Tutorials:\n",
    "\n",
    "\"Dynamic Programming: Subset-Sum Problem.\" GeeksforGeeks. Available at: https://www.geeksforgeeks.org/\n",
    "\"Subset-Sum Problem and Its Variants.\" CP Algorithms. Available at: https://cp-algorithms.com/\n",
    "Online Courses and Videos:\n",
    "\n",
    "\"Dynamic Programming Essentials\" - Coursera.\n",
    "\"Subset-Sum Problem Explained\" - YouTube.\n",
    "Code References:\n",
    "\n",
    "Python implementation examples adapted from open-source repositories and algorithmic problem-solving platforms.\n",
    "\n"
   ]
  }
 ],
 "metadata": {
  "kernelspec": {
   "display_name": "3.10.12",
   "language": "python",
   "name": "python3"
  },
  "language_info": {
   "codemirror_mode": {
    "name": "ipython",
    "version": 3
   },
   "file_extension": ".py",
   "mimetype": "text/x-python",
   "name": "python",
   "nbconvert_exporter": "python",
   "pygments_lexer": "ipython3",
   "version": "3.10.12"
  },
  "toc": {
   "base_numbering": 1,
   "nav_menu": {},
   "number_sections": false,
   "sideBar": true,
   "skip_h1_title": false,
   "title_cell": "Table of Contents",
   "title_sidebar": "Contents",
   "toc_cell": false,
   "toc_position": {},
   "toc_section_display": true,
   "toc_window_display": false
  }
 },
 "nbformat": 4,
 "nbformat_minor": 4
}
