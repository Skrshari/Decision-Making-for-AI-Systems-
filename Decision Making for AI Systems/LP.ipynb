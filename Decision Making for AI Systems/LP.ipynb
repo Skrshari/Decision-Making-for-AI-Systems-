{
 "cells": [
  {
   "cell_type": "markdown",
   "id": "af0cba34-ce1c-4572-a2d1-e23425871b08",
   "metadata": {},
   "source": [
    "# Part 1) A linear programming approach for optimizing features in ML models"
   ]
  },
  {
   "cell_type": "markdown",
   "id": "ef0baa69-7ce7-4800-afb5-9e06c8161c63",
   "metadata": {},
   "source": [
    "Read the article [A linear programming approach for optimizing features in ML models](https://engineering.fb.com/2021/07/29/data-infrastructure/linear-programming/).\n",
    "\n",
    "Summarise it technically in about **400 words**, ensuring you capture the Mathematical formulation of how Linear Programming is used. (Do not discuss the code.)\n",
    "\n",
    "- Use LaTeX for the mathematical formulae, not images. You also need to expand on the formulae given in the article."
   ]
  },
  {
   "cell_type": "markdown",
   "id": "98e54944-4ae1-4246-8762-c54afd201076",
   "metadata": {},
   "source": [
    "\n",
    "Article's summary\n",
    "\n",
    " Linear programming (LP) is an optimization technique where a linear objective function is maximized or minimized subject to linear constraints. The article describes how LP can optimize machine learning (ML) models by selecting features that maximize performance while adhering to resource constraints, such as inference latency or memory usage.\n",
    " \n",
    "  Mathematical Formulation\n",
    " Suppose we have:\n",
    " - **Features**: $f_1, f_2, \\dots, f_n$\n",
    " - **Performance score** for each feature $i$: $s_i$\n",
    " - **Resource usage** for each feature $i$: $r_i$\n",
    " - **Total budget** for resource usage: $R$\n",
    " - Binary decision variables $x_i$ indicating whether feature $i$ is selected ($x_i = 1$) or not ($x_i = 0$).\n",
    " \n",
    " The LP problem is formulated as follows:\n",
    " \n",
    " $$\n",
    " \\text{Maximize: } \\sum_{i=1}^n s_i x_i\n",
    " $$\n",
    " \n",
    " Subject to:\n",
    " $$\n",
    " \\sum_{i=1}^n r_i x_i \\leq R\n",
    " $$\n",
    " $$\n",
    " x_i \\in \\{0, 1\\} \\text{ for all } i.\n",
    " $$\n",
    " \n",
    " This approach ensures that the chosen features maximize the performance score while staying within the resource budget. Additional constraints can be added to address specific requirements, such as minimum performance thresholds or group-based resource limits.\n",
    "\n",
    "  Part 2) Farmer's Problem\n",
    "\n",
    " A farmer has 500 acres of land to allocate to wheat, corn, and sugar beets.\n",
    " \n",
    " |                          | Unit    | Wheat | Corn | Sugar Beets |\n",
    " |--------------------------|---------|------:|-----:|:-----------:|\n",
    " | Yield                    | T/acre  | 2.5   | 3    | 20          |\n",
    " | Demand (Need for feed)   | T       | 200   | 240  |             |\n",
    " | Planting cost            | £/acre  | 150   | 230  | 260         |\n",
    " | Selling price            | £/T     | 170   | 150  | 36 if produce ≤ 6000 T |\n",
    " |                          | £/T     |       |      | 10 if produce > 6000 T |\n",
    " | Backup (Purchase price)  | £/T     | 238   | 210  |             |\n",
    "\n",
    " %% [markdown]\n",
    "  Mathematical Formulation\n",
    "\n",
    " %% [markdown]\n",
    "  Variables\n",
    " |Variable name| Description |\n",
    " |:------------|:-----|\n",
    " |$x_1$| Acres of land used for wheat |\n",
    " |$x_2$| Acres of land used for corn |\n",
    " |$x_3$| Acres of land used for sugar beets |\n",
    " |$p_1$| Tons of crop wheat sold |\n",
    " |$p_2$| Tons of crop corn sold |\n",
    " |$p_3$| Tons of crop sugar beets sold at £36 |\n",
    " |$p_4$| Tons of crop sugar beets sold at £10 |\n",
    " |$y_1$| Tons of wheat purchased |\n",
    " |$y_2$| Tons of corn purchased |\n",
    "\n",
    " %% [markdown]\n",
    "  Objective Function (Profit)\n",
    " $$\n",
    " \\text{Maximize: } 170p_1 + 150p_2 + 36p_3 + 10p_4 - 150x_1 - 230x_2 - 260x_3 - 238y_1 - 210y_2\n",
    " $$\n",
    "\n",
    " %% [markdown]\n",
    "  Constraints\n",
    " 1. **Land allocation:**\n",
    " $$\n",
    " x_1 + x_2 + x_3 \\leq 500\n",
    " $$\n",
    " \n",
    " 2. **Demand satisfaction:**\n",
    " $$\n",
    " 2.5x_1 + y_1 \\geq 200\n",
    " $$\n",
    " $$\n",
    " 3x_2 + y_2 \\geq 240\n",
    " $$\n",
    " \n",
    " 3. **Sugar beet sales:**\n",
    " $$\n",
    " p_3 + p_4 \\leq 20x_3\n",
    " $$\n",
    " \n",
    " 4. **Non-negativity:**\n",
    " $$\n",
    " x_1, x_2, x_3, p_1, p_2, p_3, p_4, y_1, y_2 \\geq 0\n",
    " $$\n",
    "\n",
    " %% [markdown]\n",
    "  Solution using PuLP\n",
    "\n",
    "\n"
   ]
  },
  {
   "cell_type": "markdown",
   "id": "5937b132",
   "metadata": {},
   "source": [
    "# Part 2) Farmer's Problem"
   ]
  },
  {
   "cell_type": "markdown",
   "id": "cbca808d",
   "metadata": {},
   "source": [
    "A farmer has 500 acres of land to allocate to wheat, corn, and sugar beets.\n",
    "\n",
    "The following table summarises the requirements and constraints:\n",
    "\n",
    "|                          | Unit    | Wheat | Corn | Sugar Beets |\n",
    "|--------------------------|---------|------:|-----:|:-----------:|\n",
    "| Yield                    | T/acre  | 2.5   | 3    | 20          |\n",
    "| Demand (Need for feed)   | T       | 200   | 240  |             |\n",
    "| Planting cost            | £/acre  | 150   | 230  | 260         |\n",
    "| Selling price            | £/T     | 170   | 150  | 36 if produce ≤ 6000 T |\n",
    "|                          | £/T     |       |      | 10 if produce > 6000 T |\n",
    "| Backup (Purchase price)  | £/T     | 238   | 210  |             |"
   ]
  },
  {
   "cell_type": "markdown",
   "id": "0366a3fc",
   "metadata": {},
   "source": [
    "## Mathematical formulation"
   ]
  },
  {
   "cell_type": "markdown",
   "id": "06aeba09",
   "metadata": {},
   "source": [
    "|Variable name| Description |\n",
    "|:------------|:-----|\n",
    "|$x_1$| Acres of land used for wheat |\n",
    "|$x_2$| Acres of land used for corn |\n",
    "|$x_3$| Acres of land used for sugar beets |\n",
    "|$p_1$| Tons of crop wheat sold |\n",
    "|$p_2$| Tons of crop corn sold |\n",
    "|$p_3$| Tons of crop sugar beets sold at £36 |\n",
    "|$p_4$| Tons of crop sugar beets sold at £10 |\n",
    "|$y_1$| Tons of wheat purchased |\n",
    "|$y_2$| Tons of corn purchased |"
   ]
  },
  {
   "cell_type": "markdown",
   "id": "56ab5cbe",
   "metadata": {},
   "source": [
    "### Profit Formula\n",
    "\n",
    "The **Profit** function is formulated as:\n",
    "\n",
    "\\[\n",
    "\\text{Maximize: } 170p_1 + 150p_2 + 36p_3 + 10p_4 - 150x_1 - 230x_2 - 260x_3 - 238y_1 - 210y_2\n",
    "\\]\n",
    "\n",
    "where:\n",
    "- \\(170p_1\\): Revenue from wheat sales.\n",
    "- \\(150p_2\\): Revenue from corn sales.\n",
    "- \\(36p_3 + 10p_4\\): Revenue from sugar beet sales (two price tiers).\n",
    "- \\(- 150x_1 - 230x_2 - 260x_3\\): Planting costs for wheat, corn, and sugar beets.\n",
    "- \\(- 238y_1 - 210y_2\\): Purchase costs for wheat and corn."
   ]
  },
  {
   "cell_type": "markdown",
   "id": "9b2ca564",
   "metadata": {},
   "source": [
    "### Constraints\n",
    "\n",
    "1. **Land Allocation**: Total land used for all crops cannot exceed the available 500 acres.\n",
    "   \\[\n",
    "   x_1 + x_2 + x_3 \\leq 500\n",
    "   \\]\n",
    "\n",
    "2. **Demand Satisfaction**:\n",
    "   - Wheat: Total wheat produced and purchased must meet the feed demand.\n",
    "     \\[\n",
    "     2.5x_1 + y_1 \\geq 200\n",
    "     \\]\n",
    "   - Corn: Total corn produced and purchased must meet the feed demand.\n",
    "     \\[\n",
    "     3x_2 + y_2 \\geq 240\n",
    "     \\]\n",
    "\n",
    "3. **Sugar Beet Production**: Total sugar beet sales cannot exceed the production.\n",
    "   \\[\n",
    "   p_3 + p_4 \\leq 20x_3\n",
    "   \\]\n",
    "\n",
    "4. **Non-negativity**: All decision variables must be non-negative.\n",
    "   \\[\n",
    "   x_1, x_2, x_3, p_1, p_2, p_3, p_4, y_1, y_2 \\geq 0\n",
    "   \\]\n",
    "\n",
    "5. **Sales Limits**:\n",
    "   - Wheat: Sales cannot exceed the produced quantity.\n",
    "     \\[\n",
    "     p_1 \\leq 2.5x_1\n",
    "     \\]\n",
    "   - Corn: Sales cannot exceed the produced quantity.\n",
    "     \\[\n",
    "     p_2 \\leq 3x_2\n",
    "     \\]\n",
    "\n",
    "These constraints ensure that the optimal crop allocation and purchase decisions respect the land, demand, and market conditions."
   ]
  },
  {
   "cell_type": "markdown",
   "id": "94561b9d",
   "metadata": {},
   "source": [
    "## Solution using PuLP"
   ]
  },
  {
   "cell_type": "code",
   "execution_count": 1,
   "id": "1a5ec9b7",
   "metadata": {
    "ExecuteTime": {
     "end_time": "2022-10-25T11:37:42.147735Z",
     "start_time": "2022-10-25T11:37:42.007094Z"
    }
   },
   "outputs": [],
   "source": [
    "from pulp import *"
   ]
  },
  {
   "cell_type": "code",
   "execution_count": 2,
   "id": "6a8a4305-6710-4a39-bf0c-3f032f9b3a07",
   "metadata": {},
   "outputs": [
    {
     "name": "stdout",
     "output_type": "stream",
     "text": [
      "Welcome to the CBC MILP Solver \n",
      "Version: 2.10.3 \n",
      "Build Date: Dec 15 2019 \n",
      "\n",
      "command line - /Users/admin/.pyenv/versions/3.10.12/lib/python3.10/site-packages/pulp/solverdir/cbc/osx/64/cbc /var/folders/fk/tg_9gq0d0zdb2b8zdb0jrp9m0000gn/T/9074d5a78b0a4dd69671f78b233dda9b-pulp.mps -max -timeMode elapsed -branch -printingOptions all -solution /var/folders/fk/tg_9gq0d0zdb2b8zdb0jrp9m0000gn/T/9074d5a78b0a4dd69671f78b233dda9b-pulp.sol (default strategy 1)\n",
      "At line 2 NAME          MODEL\n",
      "At line 3 ROWS\n",
      "At line 12 COLUMNS\n",
      "At line 39 RHS\n",
      "At line 47 BOUNDS\n",
      "At line 48 ENDATA\n",
      "Problem MODEL has 7 rows, 9 columns and 17 elements\n",
      "Coin0008I MODEL read with 0 errors\n",
      "Option for timeMode changed from cpu to elapsed\n",
      "Presolve 3 (-4) rows, 5 (-4) columns and 7 (-10) elements\n",
      "0  Obj -0 Primal inf 1690 (3) Dual inf 367.33333 (3)\n",
      "3  Obj 196000\n",
      "Optimal - objective value 196000\n",
      "After Postsolve, objective 196000, infeasibilities - dual 0 (0), primal 0 (0)\n",
      "Optimal objective 196000 - 3 iterations time 0.002, Presolve 0.00\n",
      "Option for printingOptions changed from normal to all\n",
      "Total time (CPU seconds):       0.00   (Wallclock seconds):       0.01\n",
      "\n"
     ]
    },
    {
     "data": {
      "text/plain": [
       "({'p1': 200.0,\n",
       "  'p2': 240.0,\n",
       "  'p3': 6800.0,\n",
       "  'p4': 0.0,\n",
       "  'x1': 80.0,\n",
       "  'x2': 80.0,\n",
       "  'x3': 340.0,\n",
       "  'y1': 0.0,\n",
       "  'y2': 0.0},\n",
       " 196000.0)"
      ]
     },
     "execution_count": 2,
     "metadata": {},
     "output_type": "execute_result"
    }
   ],
   "source": [
    "model = LpProblem(name=\"farmers-problem\", sense=LpMaximize)\n",
    "\n",
    "# Decision variables\n",
    "x1 = LpVariable(name=\"x1\", lowBound=0)\n",
    "x2 = LpVariable(name=\"x2\", lowBound=0)\n",
    "x3 = LpVariable(name=\"x3\", lowBound=0)\n",
    "p1 = LpVariable(name=\"p1\", lowBound=0)\n",
    "p2 = LpVariable(name=\"p2\", lowBound=0)\n",
    "p3 = LpVariable(name=\"p3\", lowBound=0)\n",
    "p4 = LpVariable(name=\"p4\", lowBound=0)\n",
    "y1 = LpVariable(name=\"y1\", lowBound=0)\n",
    "y2 = LpVariable(name=\"y2\", lowBound=0)\n",
    "\n",
    "# Objective function\n",
    "model += (\n",
    "    170 * p1 + 150 * p2 + 36 * p3 + 10 * p4\n",
    "    - 150 * x1 - 230 * x2 - 260 * x3\n",
    "    - 238 * y1 - 210 * y2,\n",
    "    \"Profit\",\n",
    ")\n",
    "\n",
    "# Constraints\n",
    "model += (x1 + x2 + x3 <= 500, \"Land constraint\")\n",
    "model += (2.5 * x1 + y1 >= 200, \"Wheat demand\")\n",
    "model += (3 * x2 + y2 >= 240, \"Corn demand\")\n",
    "model += (p3 + p4 <= 20 * x3, \"Sugar beet production\")\n",
    "model += (p1 <= 2.5 * x1, \"Wheat sales limit\")\n",
    "model += (p2 <= 3 * x2, \"Corn sales limit\")\n",
    "model += (p3 + p4 <= 20 * x3, \"Sugar beet sales limit\")\n",
    "\n",
    "# Solve the problem\n",
    "model.solve()\n",
    "\n",
    "# Output the results\n",
    "optimal_values = {var.name: var.value() for var in model.variables()}\n",
    "optimal_profit = model.objective.value()\n",
    "\n",
    "optimal_values, optimal_profit\n"
   ]
  },
  {
   "cell_type": "markdown",
   "id": "4aca5a59",
   "metadata": {},
   "source": [
    "# Optimal solution"
   ]
  },
  {
   "cell_type": "code",
   "execution_count": 3,
   "id": "65928958",
   "metadata": {},
   "outputs": [
    {
     "name": "stdout",
     "output_type": "stream",
     "text": [
      "|Category |Unit|Wheat|Corn|Sugar Beets|\n",
      "|---------|----|-----|----|-----------|\n",
      "|Area     |Acre| 80.0 | 80.0 | 340.0 |\n",
      "|Yield    |T   | 200.0 | 240.0 | 6800.0 |\n",
      "|Sales    |T   | 200.0 | 240.0 | 6800.0 |\n",
      "|Purchase |T   | 0.0 | 0.0 | - |\n",
      "\n",
      "Total profit: £196000.00\n"
     ]
    }
   ],
   "source": [
    "# Generate the optimal solution table dynamically\n",
    "print(\"|Category |Unit|Wheat|Corn|Sugar Beets|\")\n",
    "print(\"|---------|----|-----|----|-----------|\")\n",
    "print(f\"|Area     |Acre| {optimal_values['x1']} | {optimal_values['x2']} | {optimal_values['x3']} |\")\n",
    "print(f\"|Yield    |T   | {2.5 * optimal_values['x1']} | {3 * optimal_values['x2']} | {20 * optimal_values['x3']} |\")\n",
    "print(f\"|Sales    |T   | {optimal_values['p1']} | {optimal_values['p2']} | {optimal_values['p3'] + optimal_values['p4']} |\")\n",
    "print(f\"|Purchase |T   | {optimal_values['y1']} | {optimal_values['y2']} | - |\")\n",
    "print(f\"\\nTotal profit: £{optimal_profit:.2f}\")\n"
   ]
  }
 ],
 "metadata": {
  "kernelspec": {
   "display_name": "3.10.12",
   "language": "python",
   "name": "python3"
  },
  "language_info": {
   "codemirror_mode": {
    "name": "ipython",
    "version": 3
   },
   "file_extension": ".py",
   "mimetype": "text/x-python",
   "name": "python",
   "nbconvert_exporter": "python",
   "pygments_lexer": "ipython3",
   "version": "3.10.12"
  },
  "toc": {
   "base_numbering": 1,
   "nav_menu": {},
   "number_sections": false,
   "sideBar": true,
   "skip_h1_title": false,
   "title_cell": "Table of Contents",
   "title_sidebar": "Contents",
   "toc_cell": false,
   "toc_position": {},
   "toc_section_display": true,
   "toc_window_display": false
  }
 },
 "nbformat": 4,
 "nbformat_minor": 5
}
