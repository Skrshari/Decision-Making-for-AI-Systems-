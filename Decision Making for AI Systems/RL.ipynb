{
 "cells": [
  {
   "cell_type": "markdown",
   "metadata": {},
   "source": [
    "# Reinforcement Learning"
   ]
  },
  {
   "cell_type": "markdown",
   "metadata": {},
   "source": [
    "Select one of the following research papers, read it, then write a critical summary of it in about **600 words**.\n",
    "\n",
    "- [A scalable approach to optimize traffic signal control with federated reinforcement learning](https://www.nature.com/articles/s41598-023-46074-3)\n",
    "- [Faster sorting algorithms discovered using deep reinforcement learning](https://www.nature.com/articles/s41586-023-06004-9)\n",
    "- [Discovering faster matrix multiplication algorithms with reinforcement learning](https://www.nature.com/articles/s41586-022-05172-4)\n",
    "- [Educational Timetabling: Problems, Benchmarks, and State-of-the-Art Results](https://arxiv.org/abs/2201.07525)\n",
    "- [Deep Reinforcement Learning in Surgical Robotics: Enhancing the Automation Level](https://arxiv.org/abs/2309.00773)\n",
    "- [Reinforcement Learning for Battery Management in Dairy Farming](https://arxiv.org/abs/2308.09023)\n",
    "- [Integrating Renewable Energy in Agriculture: A Deep Reinforcement Learning-based Approach](https://arxiv.org/abs/2308.08611)\n",
    "\n",
    "Your summary must capture the key ingredients of Reinforcement Learning mentioned in the paper, e.g. specification of the environment, agent, reward, etc.\n",
    "Do not cover the background material already explained in the lectures."
   ]
  },
  {
   "cell_type": "markdown",
   "metadata": {},
   "source": [
    "**N.B.** If you use any images then put them in the `img` folder, then include using `![](img/image_filename)`."
   ]
  },
  {
   "cell_type": "markdown",
   "metadata": {},
   "source": [
    "## Paper summary"
   ]
  },
  {
   "cell_type": "markdown",
   "metadata": {},
   "source": [
    "Title: A scalable approach to optimize traffic signal control with federated reinforcement learning"
   ]
  },
  {
   "cell_type": "markdown",
   "metadata": {},
   "source": [
    "### Environment and Agent Specification\n",
    "\n",
    "In this study, each traffic signal (TS) at an intersection is modeled as an intelligent agent within a multi-intersection road network. The environment encompasses various intersections, each with unique structures, lane configurations, and traffic flow patterns. The agents interact with this environment by adjusting signal phases to optimize traffic flow.\n",
    "\n",
    "### State Representation\n",
    "\n",
    "The state representation for each agent includes real-time traffic information such as the number of incoming lanes, movement restrictions, current traffic flow, and the active phase of the traffic signal. This comprehensive state captures the dynamic conditions of each intersection, enabling agents to make informed decisions.\n",
    "\n",
    "### Action Space\n",
    "\n",
    "The action space for each agent consists of selecting the appropriate traffic signal phase from a predefined set. These phases are designed to manage non-conflicting traffic movements, ensuring safety and efficiency at intersections. The number and configuration of phases can vary depending on the specific intersection.\n",
    "\n",
    "### Reward Function\n",
    "\n",
    "The reward function is designed to minimize traffic congestion by considering factors such as queue lengths, waiting times, and overall traffic delays. By optimizing these metrics, the agents learn to reduce congestion and improve traffic flow across the network.\n",
    "\n",
    "### Federated Reinforcement Learning Approach\n",
    "\n",
    "To tackle scalability challenges inherent in traditional RL methods, the authors employ a Federated Learning framework. In this setup, each TS agent trains its local RL model using data from its respective intersection. The neural network of each RL agent is divided into two components:\n",
    "\n",
    "1. **Global Feature Extraction Layers**: These layers capture generalized traffic patterns and are shared across all agents.\n",
    "2. **Local Feature Extraction Layers**: These layers capture intersection-specific characteristics and remain unique to each agent.\n",
    "\n",
    "During the FL process, only the parameters of the global feature extraction layers are aggregated and shared among agents. This aggregation is performed using a weighted average fusion method based on the amount of data owned by each local model. The local feature extraction layers are fine-tuned individually to adapt to the unique conditions of each intersection.\n",
    "\n",
    "### Experimental Evaluation\n",
    "\n",
    "The proposed method was evaluated using the SUMO (Simulation of Urban Mobility) simulator on a real-world road network in Cologne, Germany, comprising eight intersections with diverse structures. The performance of the Federated RL model was compared against several baselines:\n",
    "\n",
    "- **Independent DQN (IDQN)**: Agents trained independently without FL.\n",
    "- **IDQN_tuned**: Fine-tuned version of IDQN for improved performance.\n",
    "- **Fed_trained**: FL process where agents hold their own output layers locally.\n",
    "\n",
    "The results demonstrated that the Federated RL model outperformed the baselines in key metrics:\n",
    "\n",
    "- **Average Reward**: The Federated model achieved a higher final convergence reward, indicating better learning efficiency.\n",
    "- **Halting Number of Vehicles**: A significant reduction in the number of vehicles stopping at intersections.\n",
    "- **Average Waiting Time**: Decreased waiting times for vehicles, enhancing overall traffic flow.\n",
    "\n",
    "Additionally, the model's adaptability was tested under varying traffic densities (1200, 1800, and 2400 vehicles per hour), consistently showing superior performance over other methods. The scalability was further validated by deploying the model on a different traffic network in Monaco, where it maintained its effectiveness, highlighting its potential for broader applicability.\n",
    "\n",
    "### Critical Analysis\n",
    "\n",
    "The integration of Federated Learning with Reinforcement Learning in this study addresses significant challenges in urban traffic management, particularly scalability and adaptability. By dividing the neural network into global and local feature extraction layers, the model effectively captures both generalized traffic patterns and intersection-specific nuances. This hierarchical approach allows for efficient knowledge sharing among agents while preserving the unique characteristics of each intersection.\n",
    "\n",
    "However, the approach assumes uniform data distribution across agents, which may not hold in real-world scenarios where traffic patterns can be highly heterogeneous. Additionally, the communication overhead associated with parameter aggregation in FL could pose challenges in large-scale deployments. Future research could explore more sophisticated aggregation algorithms, such as client selection or weight assignment based on performance or reliability, to further optimize model performance.\n",
    "\n",
    "In conclusion, this paper presents a promising approach to optimizing traffic signal control through the combination of Federated Learning and Reinforcement Learning. The proposed method demonstrates significant improvements in traffic flow efficiency and exhibits strong potential for scalability and adaptability in diverse urban traffic scenarios. Further exploration and refinement of this approach could lead to more resilient and efficient traffic management systems in the future.\n",
    "\n"
   ]
  }
 ],
 "metadata": {
  "kernelspec": {
   "display_name": "Python 3 (ipykernel)",
   "language": "python",
   "name": "python3"
  },
  "language_info": {
   "codemirror_mode": {
    "name": "ipython",
    "version": 3
   },
   "file_extension": ".py",
   "mimetype": "text/x-python",
   "name": "python",
   "nbconvert_exporter": "python",
   "pygments_lexer": "ipython3",
   "version": "3.11.1"
  },
  "toc": {
   "base_numbering": 1,
   "nav_menu": {},
   "number_sections": false,
   "sideBar": true,
   "skip_h1_title": false,
   "title_cell": "Table of Contents",
   "title_sidebar": "Contents",
   "toc_cell": false,
   "toc_position": {},
   "toc_section_display": true,
   "toc_window_display": false
  },
  "vscode": {
   "interpreter": {
    "hash": "6d1e45cadc3597bb8b6600530fbdf8c3eefe919a24ef54d9d32b318795b772e0"
   }
  }
 },
 "nbformat": 4,
 "nbformat_minor": 4
}
